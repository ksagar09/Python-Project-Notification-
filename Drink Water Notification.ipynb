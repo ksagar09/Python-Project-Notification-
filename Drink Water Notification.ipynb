{
 "cells": [
  {
   "cell_type": "code",
   "execution_count": null,
   "metadata": {},
   "outputs": [],
   "source": [
    "import time\n",
    "from plyer import notification\n",
    "\n",
    "if __name__== \"__main__\":\n",
    "    while True:\n",
    "        notification.notify(\n",
    "            title= \"Please Drink Water\",\n",
    "            message= \"Atleast 3ltr water need to drink\",\n",
    "#             app_icon= \"Documents/Visual Studio Files/Python Mini Project/beginers/glass.png\",\n",
    "            timeout= 10\n",
    "        )\n",
    "        time.sleep(900)\n",
    "\n",
    "#pythonw.exe (file name)"
   ]
  },
  {
   "cell_type": "code",
   "execution_count": 20,
   "metadata": {},
   "outputs": [
    {
     "name": "stdout",
     "output_type": "stream",
     "text": [
      "Help on Proxy in module plyer.platforms.linux.notification object:\n",
      "\n",
      "class Proxy(builtins.object)\n",
      " |  Proxy(name, facade)\n",
      " |  \n",
      " |  Based on http://code.activestate.com/recipes/496741-object-proxying\n",
      " |  version by Tomer Filiba, PSF license.\n",
      " |  \n",
      " |  Methods defined here:\n",
      " |  \n",
      " |  __bool__(self)\n",
      " |  \n",
      " |  __delattr__(self, name)\n",
      " |      Implement delattr(self, name).\n",
      " |  \n",
      " |  __getattribute__(self, name)\n",
      " |      Return getattr(self, name).\n",
      " |  \n",
      " |  __init__(self, name, facade)\n",
      " |      Initialize self.  See help(type(self)) for accurate signature.\n",
      " |  \n",
      " |  __repr__(self)\n",
      " |      Return repr(self).\n",
      " |  \n",
      " |  __setattr__(self, name, value)\n",
      " |      Implement setattr(self, name, value).\n",
      " |  \n",
      " |  __str__(self)\n",
      " |      Return str(self).\n",
      "\n",
      "None\n"
     ]
    }
   ],
   "source": [
    "# print(help(notification))"
   ]
  },
  {
   "cell_type": "code",
   "execution_count": null,
   "metadata": {},
   "outputs": [],
   "source": []
  },
  {
   "cell_type": "code",
   "execution_count": null,
   "metadata": {},
   "outputs": [],
   "source": []
  }
 ],
 "metadata": {
  "kernelspec": {
   "display_name": "Python 3",
   "language": "python",
   "name": "python3"
  },
  "language_info": {
   "codemirror_mode": {
    "name": "ipython",
    "version": 3
   },
   "file_extension": ".py",
   "mimetype": "text/x-python",
   "name": "python",
   "nbconvert_exporter": "python",
   "pygments_lexer": "ipython3",
   "version": "3.7.4"
  }
 },
 "nbformat": 4,
 "nbformat_minor": 2
}
